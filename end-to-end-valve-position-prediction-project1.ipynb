{
 "cells": [
  {
   "cell_type": "markdown",
   "id": "256353ef-8a8b-4fcb-98a3-a9ac0b78a883",
   "metadata": {},
   "source": [
    "# Predicting valve position on the basis of liquid level\n",
    "In this notebook, we will be trying to predict the position, the regulatory valve should assume on the basis of liquid level\n",
    "## 1. Problem definition\n",
    "> How well can the valve position be predicted\n",
    "## 2. Data\n",
    "> We have two sets of data, the dataset for valve position as well as the liquid level\n",
    "* The valve position dataset provides the valve position in terms of percentage (0-100)\n",
    "* The liquid level dataset provides liquid level in the tank in mililitres (ml)\n",
    "* We are to combine these two separate datasets in order to form our training, validation and test datasets\n",
    "### 2.1. How to get the train, validation and test data sets\n",
    "* Firstly we will be combining the valve position and liquid level data from the `Процесс 2_Уровень_008.KIP1.L_S1_2_month.csv` and `Процесс_2_Положение_клпапна_008_KIP1_Pos_KlR7_2_1month.csv` data sets\n",
    "* Then we will be using the train_test_split to split the combined data in the ratio of 75:25 to get our training and validation datasets\n",
    "* As for the test data, we will use `Процесс_3_Уровень` data set as the test data set\n",
    "## 3. Evaluation and Improvisation\n",
    "We will be using RMSLE (Root Mean Squared Log Error) as well as other evaluation methods. \n",
    "The goal of the regression metrics will be to minimize the error."
   ]
  },
  {
   "cell_type": "code",
   "execution_count": 2,
   "id": "13ac6f00-eb51-4d68-afb9-e92831ab426e",
   "metadata": {},
   "outputs": [],
   "source": [
    "# Import the required libraries\n",
    "import numpy as np\n",
    "import pandas as pd\n",
    "import matplotlib.pyplot as plt\n",
    "import sklearn\n",
    "%matplotlib inline"
   ]
  },
  {
   "cell_type": "code",
   "execution_count": 3,
   "id": "74fe0c8e-6b39-4e2e-b263-a478b2e669ba",
   "metadata": {},
   "outputs": [],
   "source": [
    "# Read the Process_2_liquid_level \n",
    "liquid_level_data = pd.read_csv(\"Процесс 2_Уровень_008.KIP1.L_S1_2_month.csv\", low_memory=False)\n",
    "# Read the Process_2_Valve_Pos dataset\n",
    "valve_pos_data = pd.read_csv(\"Процесс_2_Положение_клпапна_008_KIP1_Pos_KlR7_2_1month.csv\", low_memory=False)\n"
   ]
  },
  {
   "cell_type": "code",
   "execution_count": 4,
   "id": "fefc75fd-99aa-4de9-81ad-497f7c9ac2eb",
   "metadata": {},
   "outputs": [
    {
     "name": "stdout",
     "output_type": "stream",
     "text": [
      "<class 'pandas.core.frame.DataFrame'>\n",
      "RangeIndex: 518460 entries, 0 to 518459\n",
      "Data columns (total 3 columns):\n",
      " #   Column    Non-Null Count   Dtype  \n",
      "---  ------    --------------   -----  \n",
      " 0   DateTime  518460 non-null  object \n",
      " 1   Vals      518460 non-null  object \n",
      " 2   Fracs     514801 non-null  float64\n",
      "dtypes: float64(1), object(2)\n",
      "memory usage: 11.9+ MB\n"
     ]
    }
   ],
   "source": [
    "liquid_level_data.info()"
   ]
  },
  {
   "cell_type": "code",
   "execution_count": 5,
   "id": "b4a66975-5e1b-4190-944c-05544576a6cd",
   "metadata": {},
   "outputs": [
    {
     "data": {
      "text/plain": [
       "518460"
      ]
     },
     "execution_count": 5,
     "metadata": {},
     "output_type": "execute_result"
    }
   ],
   "source": [
    "len(liquid_level_data.DateTime)"
   ]
  },
  {
   "cell_type": "code",
   "execution_count": 6,
   "id": "65dbf0f4-9e0c-4481-8117-e490c785ab7a",
   "metadata": {},
   "outputs": [
    {
     "name": "stdout",
     "output_type": "stream",
     "text": [
      "<class 'pandas.core.frame.DataFrame'>\n",
      "RangeIndex: 518460 entries, 0 to 518459\n",
      "Data columns (total 3 columns):\n",
      " #   Column    Non-Null Count   Dtype  \n",
      "---  ------    --------------   -----  \n",
      " 0   DateTime  518460 non-null  object \n",
      " 1   Vals      518460 non-null  object \n",
      " 2   Fracs     517144 non-null  float64\n",
      "dtypes: float64(1), object(2)\n",
      "memory usage: 11.9+ MB\n"
     ]
    }
   ],
   "source": [
    "valve_pos_data.info()"
   ]
  },
  {
   "cell_type": "code",
   "execution_count": 7,
   "id": "c5e40b7e-9b21-4948-ac9f-b6f398efcf08",
   "metadata": {},
   "outputs": [
    {
     "data": {
      "text/plain": [
       "518460"
      ]
     },
     "execution_count": 7,
     "metadata": {},
     "output_type": "execute_result"
    }
   ],
   "source": [
    "len(valve_pos_data.DateTime)"
   ]
  },
  {
   "cell_type": "code",
   "execution_count": 8,
   "id": "d15ddaa6-a401-4c9f-9137-4505ce3ee2e1",
   "metadata": {},
   "outputs": [],
   "source": [
    "df1 = liquid_level_data.copy()"
   ]
  },
  {
   "cell_type": "code",
   "execution_count": 9,
   "id": "20c8acc8-6525-4f37-9c35-674911d4fdee",
   "metadata": {},
   "outputs": [],
   "source": [
    "df1[\"DateTime\"] = pd.to_datetime(df1[\"DateTime\"], format=\"%d.%m.%Y %H:%M\")"
   ]
  },
  {
   "cell_type": "code",
   "execution_count": 10,
   "id": "c8e11bee-edcb-432d-9de3-d719eab19d81",
   "metadata": {},
   "outputs": [
    {
     "name": "stdout",
     "output_type": "stream",
     "text": [
      "<class 'pandas.core.frame.DataFrame'>\n",
      "RangeIndex: 518460 entries, 0 to 518459\n",
      "Data columns (total 3 columns):\n",
      " #   Column    Non-Null Count   Dtype         \n",
      "---  ------    --------------   -----         \n",
      " 0   DateTime  518460 non-null  datetime64[ns]\n",
      " 1   Vals      518460 non-null  object        \n",
      " 2   Fracs     514801 non-null  float64       \n",
      "dtypes: datetime64[ns](1), float64(1), object(1)\n",
      "memory usage: 11.9+ MB\n"
     ]
    }
   ],
   "source": [
    "df1.info()"
   ]
  },
  {
   "cell_type": "code",
   "execution_count": 11,
   "id": "4f655ce0-7f53-4c14-a0f3-9ba61f6f9137",
   "metadata": {},
   "outputs": [
    {
     "data": {
      "text/plain": [
       "Timestamp('2023-10-01 00:16:00')"
      ]
     },
     "execution_count": 11,
     "metadata": {},
     "output_type": "execute_result"
    }
   ],
   "source": [
    "df1.DateTime[3]"
   ]
  },
  {
   "cell_type": "code",
   "execution_count": 12,
   "id": "123d2baa-40ee-4d9c-ac19-aeaf6dd977d6",
   "metadata": {},
   "outputs": [],
   "source": [
    "df2 = valve_pos_data.copy()\n",
    "df2[\"DateTime\"] = pd.to_datetime(df2[\"DateTime\"], format = \"%d.%m.%Y %H:%M\")"
   ]
  },
  {
   "cell_type": "code",
   "execution_count": 13,
   "id": "aedc0914-a555-429f-b845-71009d6293ff",
   "metadata": {},
   "outputs": [
    {
     "name": "stdout",
     "output_type": "stream",
     "text": [
      "<class 'pandas.core.frame.DataFrame'>\n",
      "RangeIndex: 518460 entries, 0 to 518459\n",
      "Data columns (total 3 columns):\n",
      " #   Column    Non-Null Count   Dtype         \n",
      "---  ------    --------------   -----         \n",
      " 0   DateTime  518460 non-null  datetime64[ns]\n",
      " 1   Vals      518460 non-null  object        \n",
      " 2   Fracs     517144 non-null  float64       \n",
      "dtypes: datetime64[ns](1), float64(1), object(1)\n",
      "memory usage: 11.9+ MB\n"
     ]
    }
   ],
   "source": [
    "df2.info()"
   ]
  },
  {
   "cell_type": "code",
   "execution_count": 14,
   "id": "95306b1c-5494-4773-b910-87a6baf1d04f",
   "metadata": {},
   "outputs": [
    {
     "data": {
      "text/plain": [
       "DateTime       0\n",
       "Vals           0\n",
       "Fracs       3659\n",
       "dtype: int64"
      ]
     },
     "execution_count": 14,
     "metadata": {},
     "output_type": "execute_result"
    }
   ],
   "source": [
    "df1.isna().sum()"
   ]
  },
  {
   "cell_type": "code",
   "execution_count": 15,
   "id": "e3bc29ee-198b-4c1b-af5c-d53ee2befbbd",
   "metadata": {},
   "outputs": [
    {
     "data": {
      "text/plain": [
       "DateTime       0\n",
       "Vals           0\n",
       "Fracs       1316\n",
       "dtype: int64"
      ]
     },
     "execution_count": 15,
     "metadata": {},
     "output_type": "execute_result"
    }
   ],
   "source": [
    "df2.isna().sum()"
   ]
  },
  {
   "cell_type": "code",
   "execution_count": 16,
   "id": "818d95f4-1342-4812-b2c9-f6a4b806d44d",
   "metadata": {},
   "outputs": [
    {
     "name": "stdout",
     "output_type": "stream",
     "text": [
      "There are string dtypes in: Vals\n",
      "There are floats in: Fracs\n"
     ]
    }
   ],
   "source": [
    "# Check for string dtype\n",
    "for label, content in df2.items():\n",
    "    if pd.api.types.is_string_dtype(content):\n",
    "        print(\"There are string dtypes in:\", label)\n",
    "    if pd.api.types.is_float_dtype(content):\n",
    "        print(\"There are floats in:\", label)\n",
    "    \n",
    "        "
   ]
  },
  {
   "cell_type": "code",
   "execution_count": 17,
   "id": "e5964376-41b4-468b-9d6e-cc31ba2f7726",
   "metadata": {},
   "outputs": [
    {
     "name": "stdout",
     "output_type": "stream",
     "text": [
      "<class 'pandas.core.frame.DataFrame'>\n",
      "RangeIndex: 518460 entries, 0 to 518459\n",
      "Data columns (total 3 columns):\n",
      " #   Column    Non-Null Count   Dtype         \n",
      "---  ------    --------------   -----         \n",
      " 0   DateTime  518460 non-null  datetime64[ns]\n",
      " 1   Vals      518460 non-null  object        \n",
      " 2   Fracs     514801 non-null  float64       \n",
      "dtypes: datetime64[ns](1), float64(1), object(1)\n",
      "memory usage: 11.9+ MB\n"
     ]
    }
   ],
   "source": [
    "df1.info()"
   ]
  },
  {
   "cell_type": "code",
   "execution_count": 18,
   "id": "d5935961-970d-498a-9dd7-7c60af36610a",
   "metadata": {},
   "outputs": [],
   "source": [
    "df1[\"Vals\"] = pd.to_numeric(df1[\"Vals\"],errors=\"coerce\")\n",
    "df2[\"Vals\"] = pd.to_numeric(df2[\"Vals\"],errors=\"coerce\")"
   ]
  },
  {
   "cell_type": "code",
   "execution_count": 19,
   "id": "06867f8f-8199-47d6-9aae-5d2016abab18",
   "metadata": {},
   "outputs": [],
   "source": [
    "#Fill up null values in the columns\n",
    "for label, content in df1.items():\n",
    "    if pd.api.types.is_numeric_dtype(content):\n",
    "        if pd.isnull(content).sum():\n",
    "            # make a label for if there was missing content or not\n",
    "            df1[label+\" is missing\"] = pd.isnull(content)\n",
    "            # Fill the missing values with 0\n",
    "            df1[label] = content.fillna(0)\n",
    "df1[\"Fracs\"] = df1[\"Fracs\"].astype('int64')\n",
    "df1[\"Vals\"] = df1[\"Vals\"].astype('int64')            "
   ]
  },
  {
   "cell_type": "code",
   "execution_count": 20,
   "id": "fe204b6d-4295-4f46-b0bf-c9547e8c1830",
   "metadata": {},
   "outputs": [
    {
     "name": "stdout",
     "output_type": "stream",
     "text": [
      "<class 'pandas.core.frame.DataFrame'>\n",
      "RangeIndex: 518460 entries, 0 to 518459\n",
      "Data columns (total 5 columns):\n",
      " #   Column            Non-Null Count   Dtype         \n",
      "---  ------            --------------   -----         \n",
      " 0   DateTime          518460 non-null  datetime64[ns]\n",
      " 1   Vals              518460 non-null  int64         \n",
      " 2   Fracs             518460 non-null  int64         \n",
      " 3   Vals is missing   518460 non-null  bool          \n",
      " 4   Fracs is missing  518460 non-null  bool          \n",
      "dtypes: bool(2), datetime64[ns](1), int64(2)\n",
      "memory usage: 12.9 MB\n"
     ]
    }
   ],
   "source": [
    "df1.info()"
   ]
  },
  {
   "cell_type": "code",
   "execution_count": 21,
   "id": "94a0950f-7740-4c92-931c-61d60bf3584e",
   "metadata": {},
   "outputs": [
    {
     "data": {
      "text/plain": [
       "DateTime            0\n",
       "Vals                0\n",
       "Fracs               0\n",
       "Vals is missing     0\n",
       "Fracs is missing    0\n",
       "dtype: int64"
      ]
     },
     "execution_count": 21,
     "metadata": {},
     "output_type": "execute_result"
    }
   ],
   "source": [
    "df1.isna().sum()"
   ]
  },
  {
   "cell_type": "code",
   "execution_count": 22,
   "id": "d7acc360-bdb0-44aa-96b2-44d862691101",
   "metadata": {},
   "outputs": [
    {
     "data": {
      "text/html": [
       "<div>\n",
       "<style scoped>\n",
       "    .dataframe tbody tr th:only-of-type {\n",
       "        vertical-align: middle;\n",
       "    }\n",
       "\n",
       "    .dataframe tbody tr th {\n",
       "        vertical-align: top;\n",
       "    }\n",
       "\n",
       "    .dataframe thead th {\n",
       "        text-align: right;\n",
       "    }\n",
       "</style>\n",
       "<table border=\"1\" class=\"dataframe\">\n",
       "  <thead>\n",
       "    <tr style=\"text-align: right;\">\n",
       "      <th></th>\n",
       "      <th>DateTime</th>\n",
       "      <th>Vals</th>\n",
       "      <th>Fracs</th>\n",
       "      <th>Vals is missing</th>\n",
       "      <th>Fracs is missing</th>\n",
       "    </tr>\n",
       "  </thead>\n",
       "  <tbody>\n",
       "    <tr>\n",
       "      <th>0</th>\n",
       "      <td>2023-10-01 00:16:00</td>\n",
       "      <td>805</td>\n",
       "      <td>4680176</td>\n",
       "      <td>False</td>\n",
       "      <td>False</td>\n",
       "    </tr>\n",
       "    <tr>\n",
       "      <th>1</th>\n",
       "      <td>2023-10-01 00:16:00</td>\n",
       "      <td>807</td>\n",
       "      <td>92041</td>\n",
       "      <td>False</td>\n",
       "      <td>False</td>\n",
       "    </tr>\n",
       "    <tr>\n",
       "      <th>2</th>\n",
       "      <td>2023-10-01 00:16:00</td>\n",
       "      <td>807</td>\n",
       "      <td>2039795</td>\n",
       "      <td>False</td>\n",
       "      <td>False</td>\n",
       "    </tr>\n",
       "    <tr>\n",
       "      <th>3</th>\n",
       "      <td>2023-10-01 00:16:00</td>\n",
       "      <td>807</td>\n",
       "      <td>7359619</td>\n",
       "      <td>False</td>\n",
       "      <td>False</td>\n",
       "    </tr>\n",
       "    <tr>\n",
       "      <th>4</th>\n",
       "      <td>2023-10-01 00:16:00</td>\n",
       "      <td>808</td>\n",
       "      <td>9680176</td>\n",
       "      <td>False</td>\n",
       "      <td>False</td>\n",
       "    </tr>\n",
       "  </tbody>\n",
       "</table>\n",
       "</div>"
      ],
      "text/plain": [
       "             DateTime  Vals    Fracs  Vals is missing  Fracs is missing\n",
       "0 2023-10-01 00:16:00   805  4680176            False             False\n",
       "1 2023-10-01 00:16:00   807    92041            False             False\n",
       "2 2023-10-01 00:16:00   807  2039795            False             False\n",
       "3 2023-10-01 00:16:00   807  7359619            False             False\n",
       "4 2023-10-01 00:16:00   808  9680176            False             False"
      ]
     },
     "execution_count": 22,
     "metadata": {},
     "output_type": "execute_result"
    }
   ],
   "source": [
    "df1.head()"
   ]
  },
  {
   "cell_type": "code",
   "execution_count": 23,
   "id": "b7c19e28-4ce6-425c-8d3a-97d5a681a7ea",
   "metadata": {},
   "outputs": [],
   "source": [
    "\n",
    "for label, content in df2.items():\n",
    "    if pd.api.types.is_numeric_dtype(content):\n",
    "        if pd.isnull(content).sum():\n",
    "            # make a label for if there was missing content or not\n",
    "            df2[label+\" is missing\"] = pd.isnull(content)\n",
    "            # Fill the missing values with 0\n",
    "            df2[label] = content.fillna(0)\n",
    "df2[\"Fracs\"] = df2[\"Fracs\"].astype('int64')\n",
    "df2[\"Vals\"] = df2[\"Vals\"].astype('int64')"
   ]
  },
  {
   "cell_type": "code",
   "execution_count": 24,
   "id": "b78b9b5d-7d5a-4b8b-8fc1-80f75b96fd8c",
   "metadata": {},
   "outputs": [
    {
     "name": "stdout",
     "output_type": "stream",
     "text": [
      "<class 'pandas.core.frame.DataFrame'>\n",
      "RangeIndex: 518460 entries, 0 to 518459\n",
      "Data columns (total 5 columns):\n",
      " #   Column            Non-Null Count   Dtype         \n",
      "---  ------            --------------   -----         \n",
      " 0   DateTime          518460 non-null  datetime64[ns]\n",
      " 1   Vals              518460 non-null  int64         \n",
      " 2   Fracs             518460 non-null  int64         \n",
      " 3   Vals is missing   518460 non-null  bool          \n",
      " 4   Fracs is missing  518460 non-null  bool          \n",
      "dtypes: bool(2), datetime64[ns](1), int64(2)\n",
      "memory usage: 12.9 MB\n"
     ]
    },
    {
     "data": {
      "text/plain": [
       "DateTime            0\n",
       "Vals                0\n",
       "Fracs               0\n",
       "Vals is missing     0\n",
       "Fracs is missing    0\n",
       "dtype: int64"
      ]
     },
     "execution_count": 24,
     "metadata": {},
     "output_type": "execute_result"
    }
   ],
   "source": [
    "df2.info()\n",
    "\n",
    "df2.isna().sum()"
   ]
  },
  {
   "cell_type": "code",
   "execution_count": 25,
   "id": "5c0cdb0d-e8c2-420e-8c01-3aa029d94e98",
   "metadata": {},
   "outputs": [
    {
     "data": {
      "text/html": [
       "<div>\n",
       "<style scoped>\n",
       "    .dataframe tbody tr th:only-of-type {\n",
       "        vertical-align: middle;\n",
       "    }\n",
       "\n",
       "    .dataframe tbody tr th {\n",
       "        vertical-align: top;\n",
       "    }\n",
       "\n",
       "    .dataframe thead th {\n",
       "        text-align: right;\n",
       "    }\n",
       "</style>\n",
       "<table border=\"1\" class=\"dataframe\">\n",
       "  <thead>\n",
       "    <tr style=\"text-align: right;\">\n",
       "      <th></th>\n",
       "      <th>DateTime</th>\n",
       "      <th>Vals</th>\n",
       "      <th>Fracs</th>\n",
       "      <th>Vals is missing</th>\n",
       "      <th>Fracs is missing</th>\n",
       "    </tr>\n",
       "  </thead>\n",
       "  <tbody>\n",
       "    <tr>\n",
       "      <th>0</th>\n",
       "      <td>2023-10-01 00:16:00</td>\n",
       "      <td>1</td>\n",
       "      <td>24000001</td>\n",
       "      <td>False</td>\n",
       "      <td>False</td>\n",
       "    </tr>\n",
       "    <tr>\n",
       "      <th>1</th>\n",
       "      <td>2023-10-01 00:16:00</td>\n",
       "      <td>1</td>\n",
       "      <td>24000001</td>\n",
       "      <td>False</td>\n",
       "      <td>False</td>\n",
       "    </tr>\n",
       "    <tr>\n",
       "      <th>2</th>\n",
       "      <td>2023-10-01 00:16:00</td>\n",
       "      <td>1</td>\n",
       "      <td>24000001</td>\n",
       "      <td>False</td>\n",
       "      <td>False</td>\n",
       "    </tr>\n",
       "    <tr>\n",
       "      <th>3</th>\n",
       "      <td>2023-10-01 00:16:00</td>\n",
       "      <td>1</td>\n",
       "      <td>228000045</td>\n",
       "      <td>False</td>\n",
       "      <td>False</td>\n",
       "    </tr>\n",
       "    <tr>\n",
       "      <th>4</th>\n",
       "      <td>2023-10-01 00:16:00</td>\n",
       "      <td>1</td>\n",
       "      <td>24000001</td>\n",
       "      <td>False</td>\n",
       "      <td>False</td>\n",
       "    </tr>\n",
       "  </tbody>\n",
       "</table>\n",
       "</div>"
      ],
      "text/plain": [
       "             DateTime  Vals      Fracs  Vals is missing  Fracs is missing\n",
       "0 2023-10-01 00:16:00     1   24000001            False             False\n",
       "1 2023-10-01 00:16:00     1   24000001            False             False\n",
       "2 2023-10-01 00:16:00     1   24000001            False             False\n",
       "3 2023-10-01 00:16:00     1  228000045            False             False\n",
       "4 2023-10-01 00:16:00     1   24000001            False             False"
      ]
     },
     "execution_count": 25,
     "metadata": {},
     "output_type": "execute_result"
    }
   ],
   "source": [
    "df2.head()"
   ]
  },
  {
   "cell_type": "code",
   "execution_count": 26,
   "id": "6430d76c-3705-4772-bdde-af70fc2765ec",
   "metadata": {},
   "outputs": [],
   "source": [
    "#df1[\"Values\"] = df1[\"Vals\"]+\".\"+df1[\"Fracs\"].astype(str)\n",
    "#df2[\"Values\"] = df2[\"Vals\"]+\".\"+df2[\"Fracs\"].astype(str)"
   ]
  },
  {
   "cell_type": "code",
   "execution_count": 27,
   "id": "e5d71491-3569-4fc7-9ed2-b92b0da1bfea",
   "metadata": {},
   "outputs": [
    {
     "data": {
      "text/plain": [
       "(             DateTime  Vals    Fracs  Vals is missing  Fracs is missing\n",
       " 0 2023-10-01 00:16:00   805  4680176            False             False\n",
       " 1 2023-10-01 00:16:00   807    92041            False             False\n",
       " 2 2023-10-01 00:16:00   807  2039795            False             False\n",
       " 3 2023-10-01 00:16:00   807  7359619            False             False\n",
       " 4 2023-10-01 00:16:00   808  9680176            False             False,\n",
       "              DateTime  Vals      Fracs  Vals is missing  Fracs is missing\n",
       " 0 2023-10-01 00:16:00     1   24000001            False             False\n",
       " 1 2023-10-01 00:16:00     1   24000001            False             False\n",
       " 2 2023-10-01 00:16:00     1   24000001            False             False\n",
       " 3 2023-10-01 00:16:00     1  228000045            False             False\n",
       " 4 2023-10-01 00:16:00     1   24000001            False             False)"
      ]
     },
     "execution_count": 27,
     "metadata": {},
     "output_type": "execute_result"
    }
   ],
   "source": [
    "df1.head(), df2.head()"
   ]
  },
  {
   "cell_type": "code",
   "execution_count": 28,
   "id": "9882b794-2aed-45ad-9fc1-df867dbef084",
   "metadata": {},
   "outputs": [
    {
     "name": "stdout",
     "output_type": "stream",
     "text": [
      "<class 'pandas.core.frame.DataFrame'>\n",
      "RangeIndex: 518460 entries, 0 to 518459\n",
      "Data columns (total 5 columns):\n",
      " #   Column            Non-Null Count   Dtype         \n",
      "---  ------            --------------   -----         \n",
      " 0   DateTime          518460 non-null  datetime64[ns]\n",
      " 1   Vals              518460 non-null  int64         \n",
      " 2   Fracs             518460 non-null  int64         \n",
      " 3   Vals is missing   518460 non-null  bool          \n",
      " 4   Fracs is missing  518460 non-null  bool          \n",
      "dtypes: bool(2), datetime64[ns](1), int64(2)\n",
      "memory usage: 12.9 MB\n",
      "<class 'pandas.core.frame.DataFrame'>\n",
      "RangeIndex: 518460 entries, 0 to 518459\n",
      "Data columns (total 5 columns):\n",
      " #   Column            Non-Null Count   Dtype         \n",
      "---  ------            --------------   -----         \n",
      " 0   DateTime          518460 non-null  datetime64[ns]\n",
      " 1   Vals              518460 non-null  int64         \n",
      " 2   Fracs             518460 non-null  int64         \n",
      " 3   Vals is missing   518460 non-null  bool          \n",
      " 4   Fracs is missing  518460 non-null  bool          \n",
      "dtypes: bool(2), datetime64[ns](1), int64(2)\n",
      "memory usage: 12.9 MB\n"
     ]
    },
    {
     "data": {
      "text/plain": [
       "(None, None)"
      ]
     },
     "execution_count": 28,
     "metadata": {},
     "output_type": "execute_result"
    }
   ],
   "source": [
    "df1.info(), df2.info()"
   ]
  },
  {
   "cell_type": "code",
   "execution_count": 29,
   "id": "4130c15d-fe73-4046-aa5d-bdea33671962",
   "metadata": {},
   "outputs": [],
   "source": [
    "time_stamp_match = list(df1[\"DateTime\"] == df2[\"DateTime\"])"
   ]
  },
  {
   "cell_type": "code",
   "execution_count": 30,
   "id": "96c6bc22-e163-43ed-a510-64e8f62cd6b9",
   "metadata": {},
   "outputs": [
    {
     "data": {
      "text/plain": [
       "518460"
      ]
     },
     "execution_count": 30,
     "metadata": {},
     "output_type": "execute_result"
    }
   ],
   "source": [
    "time_stamp_match.count(True)"
   ]
  },
  {
   "cell_type": "code",
   "execution_count": null,
   "id": "a19e28ab-eadf-4184-b8b4-b95ae90ced5d",
   "metadata": {},
   "outputs": [],
   "source": [
    "\n"
   ]
  },
  {
   "cell_type": "code",
   "execution_count": 31,
   "id": "8c7507d4-d851-4d66-847a-2a97c36fd671",
   "metadata": {},
   "outputs": [
    {
     "name": "stdout",
     "output_type": "stream",
     "text": [
      "<class 'pandas.core.frame.DataFrame'>\n",
      "RangeIndex: 518460 entries, 0 to 518459\n",
      "Data columns (total 5 columns):\n",
      " #   Column            Non-Null Count   Dtype         \n",
      "---  ------            --------------   -----         \n",
      " 0   DateTime          518460 non-null  datetime64[ns]\n",
      " 1   Vals              518460 non-null  int64         \n",
      " 2   Fracs             518460 non-null  int64         \n",
      " 3   Vals is missing   518460 non-null  bool          \n",
      " 4   Fracs is missing  518460 non-null  bool          \n",
      "dtypes: bool(2), datetime64[ns](1), int64(2)\n",
      "memory usage: 12.9 MB\n"
     ]
    }
   ],
   "source": [
    "df1.info()"
   ]
  },
  {
   "cell_type": "code",
   "execution_count": 32,
   "id": "5501b7c3-7b65-4e2b-89ba-f004aab2652d",
   "metadata": {},
   "outputs": [
    {
     "data": {
      "text/plain": [
       "False    518291\n",
       "True        169\n",
       "Name: Vals is missing, dtype: int64"
      ]
     },
     "execution_count": 32,
     "metadata": {},
     "output_type": "execute_result"
    }
   ],
   "source": [
    "df1[\"Vals is missing\"].value_counts()"
   ]
  },
  {
   "cell_type": "code",
   "execution_count": 33,
   "id": "ddc09a27-d5db-4122-b948-37a269e51272",
   "metadata": {},
   "outputs": [
    {
     "data": {
      "text/plain": [
       "False    518291\n",
       "True        169\n",
       "Name: Vals is missing, dtype: int64"
      ]
     },
     "execution_count": 33,
     "metadata": {},
     "output_type": "execute_result"
    }
   ],
   "source": [
    "df2[\"Vals is missing\"].value_counts()"
   ]
  },
  {
   "cell_type": "code",
   "execution_count": 34,
   "id": "fa93b776-03ca-4505-af14-b3c0d3b6d9ba",
   "metadata": {},
   "outputs": [
    {
     "data": {
      "text/plain": [
       "(False    514801\n",
       " True       3659\n",
       " Name: Fracs is missing, dtype: int64,\n",
       " False    517144\n",
       " True       1316\n",
       " Name: Fracs is missing, dtype: int64)"
      ]
     },
     "execution_count": 34,
     "metadata": {},
     "output_type": "execute_result"
    }
   ],
   "source": [
    "df1[\"Fracs is missing\"].value_counts(), df2[\"Fracs is missing\"].value_counts()"
   ]
  },
  {
   "cell_type": "code",
   "execution_count": 35,
   "id": "11086510-9363-4ac9-8fea-cb5c83f90b44",
   "metadata": {},
   "outputs": [
    {
     "data": {
      "text/html": [
       "<div>\n",
       "<style scoped>\n",
       "    .dataframe tbody tr th:only-of-type {\n",
       "        vertical-align: middle;\n",
       "    }\n",
       "\n",
       "    .dataframe tbody tr th {\n",
       "        vertical-align: top;\n",
       "    }\n",
       "\n",
       "    .dataframe thead th {\n",
       "        text-align: right;\n",
       "    }\n",
       "</style>\n",
       "<table border=\"1\" class=\"dataframe\">\n",
       "  <thead>\n",
       "    <tr style=\"text-align: right;\">\n",
       "      <th></th>\n",
       "      <th>DateTime</th>\n",
       "      <th>Vals</th>\n",
       "      <th>Fracs</th>\n",
       "      <th>Vals is missing</th>\n",
       "      <th>Fracs is missing</th>\n",
       "    </tr>\n",
       "  </thead>\n",
       "  <tbody>\n",
       "    <tr>\n",
       "      <th>0</th>\n",
       "      <td>2023-10-01 00:16:00</td>\n",
       "      <td>805</td>\n",
       "      <td>4680176</td>\n",
       "      <td>False</td>\n",
       "      <td>False</td>\n",
       "    </tr>\n",
       "    <tr>\n",
       "      <th>1</th>\n",
       "      <td>2023-10-01 00:16:00</td>\n",
       "      <td>807</td>\n",
       "      <td>92041</td>\n",
       "      <td>False</td>\n",
       "      <td>False</td>\n",
       "    </tr>\n",
       "    <tr>\n",
       "      <th>2</th>\n",
       "      <td>2023-10-01 00:16:00</td>\n",
       "      <td>807</td>\n",
       "      <td>2039795</td>\n",
       "      <td>False</td>\n",
       "      <td>False</td>\n",
       "    </tr>\n",
       "    <tr>\n",
       "      <th>3</th>\n",
       "      <td>2023-10-01 00:16:00</td>\n",
       "      <td>807</td>\n",
       "      <td>7359619</td>\n",
       "      <td>False</td>\n",
       "      <td>False</td>\n",
       "    </tr>\n",
       "    <tr>\n",
       "      <th>4</th>\n",
       "      <td>2023-10-01 00:16:00</td>\n",
       "      <td>808</td>\n",
       "      <td>9680176</td>\n",
       "      <td>False</td>\n",
       "      <td>False</td>\n",
       "    </tr>\n",
       "  </tbody>\n",
       "</table>\n",
       "</div>"
      ],
      "text/plain": [
       "             DateTime  Vals    Fracs  Vals is missing  Fracs is missing\n",
       "0 2023-10-01 00:16:00   805  4680176            False             False\n",
       "1 2023-10-01 00:16:00   807    92041            False             False\n",
       "2 2023-10-01 00:16:00   807  2039795            False             False\n",
       "3 2023-10-01 00:16:00   807  7359619            False             False\n",
       "4 2023-10-01 00:16:00   808  9680176            False             False"
      ]
     },
     "execution_count": 35,
     "metadata": {},
     "output_type": "execute_result"
    }
   ],
   "source": [
    "df1.head()"
   ]
  },
  {
   "cell_type": "code",
   "execution_count": 36,
   "id": "6a6ad007-fc2d-4147-b9c0-6bc8a32379d1",
   "metadata": {},
   "outputs": [
    {
     "data": {
      "text/html": [
       "<div>\n",
       "<style scoped>\n",
       "    .dataframe tbody tr th:only-of-type {\n",
       "        vertical-align: middle;\n",
       "    }\n",
       "\n",
       "    .dataframe tbody tr th {\n",
       "        vertical-align: top;\n",
       "    }\n",
       "\n",
       "    .dataframe thead th {\n",
       "        text-align: right;\n",
       "    }\n",
       "</style>\n",
       "<table border=\"1\" class=\"dataframe\">\n",
       "  <thead>\n",
       "    <tr style=\"text-align: right;\">\n",
       "      <th></th>\n",
       "      <th>DateTime</th>\n",
       "      <th>Vals</th>\n",
       "      <th>Fracs</th>\n",
       "      <th>Vals is missing</th>\n",
       "      <th>Fracs is missing</th>\n",
       "    </tr>\n",
       "  </thead>\n",
       "  <tbody>\n",
       "    <tr>\n",
       "      <th>0</th>\n",
       "      <td>2023-10-01 00:16:00</td>\n",
       "      <td>1</td>\n",
       "      <td>24000001</td>\n",
       "      <td>False</td>\n",
       "      <td>False</td>\n",
       "    </tr>\n",
       "    <tr>\n",
       "      <th>1</th>\n",
       "      <td>2023-10-01 00:16:00</td>\n",
       "      <td>1</td>\n",
       "      <td>24000001</td>\n",
       "      <td>False</td>\n",
       "      <td>False</td>\n",
       "    </tr>\n",
       "    <tr>\n",
       "      <th>2</th>\n",
       "      <td>2023-10-01 00:16:00</td>\n",
       "      <td>1</td>\n",
       "      <td>24000001</td>\n",
       "      <td>False</td>\n",
       "      <td>False</td>\n",
       "    </tr>\n",
       "    <tr>\n",
       "      <th>3</th>\n",
       "      <td>2023-10-01 00:16:00</td>\n",
       "      <td>1</td>\n",
       "      <td>228000045</td>\n",
       "      <td>False</td>\n",
       "      <td>False</td>\n",
       "    </tr>\n",
       "    <tr>\n",
       "      <th>4</th>\n",
       "      <td>2023-10-01 00:16:00</td>\n",
       "      <td>1</td>\n",
       "      <td>24000001</td>\n",
       "      <td>False</td>\n",
       "      <td>False</td>\n",
       "    </tr>\n",
       "  </tbody>\n",
       "</table>\n",
       "</div>"
      ],
      "text/plain": [
       "             DateTime  Vals      Fracs  Vals is missing  Fracs is missing\n",
       "0 2023-10-01 00:16:00     1   24000001            False             False\n",
       "1 2023-10-01 00:16:00     1   24000001            False             False\n",
       "2 2023-10-01 00:16:00     1   24000001            False             False\n",
       "3 2023-10-01 00:16:00     1  228000045            False             False\n",
       "4 2023-10-01 00:16:00     1   24000001            False             False"
      ]
     },
     "execution_count": 36,
     "metadata": {},
     "output_type": "execute_result"
    }
   ],
   "source": [
    "df2.head()"
   ]
  },
  {
   "cell_type": "code",
   "execution_count": 37,
   "id": "eac810ae-7edc-4a32-ac3d-581f36f0f939",
   "metadata": {},
   "outputs": [],
   "source": [
    "df1[\"Liquid_levels\"] = df1[\"Vals\"].astype(str)+\".\"+df1[\"Fracs\"].astype(str)"
   ]
  },
  {
   "cell_type": "code",
   "execution_count": 38,
   "id": "5919595a-c3b8-4e73-9593-a39c1fb80ed2",
   "metadata": {},
   "outputs": [],
   "source": [
    "df2[\"Valve_positions\"] = df2[\"Vals\"].astype(str)+\".\"+df2[\"Fracs\"].astype(str)"
   ]
  },
  {
   "cell_type": "code",
   "execution_count": 39,
   "id": "7a6acc29-106f-4f5f-aac0-d29916c45897",
   "metadata": {},
   "outputs": [
    {
     "data": {
      "text/html": [
       "<div>\n",
       "<style scoped>\n",
       "    .dataframe tbody tr th:only-of-type {\n",
       "        vertical-align: middle;\n",
       "    }\n",
       "\n",
       "    .dataframe tbody tr th {\n",
       "        vertical-align: top;\n",
       "    }\n",
       "\n",
       "    .dataframe thead th {\n",
       "        text-align: right;\n",
       "    }\n",
       "</style>\n",
       "<table border=\"1\" class=\"dataframe\">\n",
       "  <thead>\n",
       "    <tr style=\"text-align: right;\">\n",
       "      <th></th>\n",
       "      <th>DateTime</th>\n",
       "      <th>Vals</th>\n",
       "      <th>Fracs</th>\n",
       "      <th>Vals is missing</th>\n",
       "      <th>Fracs is missing</th>\n",
       "      <th>Liquid_levels</th>\n",
       "    </tr>\n",
       "  </thead>\n",
       "  <tbody>\n",
       "    <tr>\n",
       "      <th>0</th>\n",
       "      <td>2023-10-01 00:16:00</td>\n",
       "      <td>805</td>\n",
       "      <td>4680176</td>\n",
       "      <td>False</td>\n",
       "      <td>False</td>\n",
       "      <td>805.4680176</td>\n",
       "    </tr>\n",
       "    <tr>\n",
       "      <th>1</th>\n",
       "      <td>2023-10-01 00:16:00</td>\n",
       "      <td>807</td>\n",
       "      <td>92041</td>\n",
       "      <td>False</td>\n",
       "      <td>False</td>\n",
       "      <td>807.92041</td>\n",
       "    </tr>\n",
       "    <tr>\n",
       "      <th>2</th>\n",
       "      <td>2023-10-01 00:16:00</td>\n",
       "      <td>807</td>\n",
       "      <td>2039795</td>\n",
       "      <td>False</td>\n",
       "      <td>False</td>\n",
       "      <td>807.2039795</td>\n",
       "    </tr>\n",
       "    <tr>\n",
       "      <th>3</th>\n",
       "      <td>2023-10-01 00:16:00</td>\n",
       "      <td>807</td>\n",
       "      <td>7359619</td>\n",
       "      <td>False</td>\n",
       "      <td>False</td>\n",
       "      <td>807.7359619</td>\n",
       "    </tr>\n",
       "    <tr>\n",
       "      <th>4</th>\n",
       "      <td>2023-10-01 00:16:00</td>\n",
       "      <td>808</td>\n",
       "      <td>9680176</td>\n",
       "      <td>False</td>\n",
       "      <td>False</td>\n",
       "      <td>808.9680176</td>\n",
       "    </tr>\n",
       "  </tbody>\n",
       "</table>\n",
       "</div>"
      ],
      "text/plain": [
       "             DateTime  Vals    Fracs  Vals is missing  Fracs is missing  \\\n",
       "0 2023-10-01 00:16:00   805  4680176            False             False   \n",
       "1 2023-10-01 00:16:00   807    92041            False             False   \n",
       "2 2023-10-01 00:16:00   807  2039795            False             False   \n",
       "3 2023-10-01 00:16:00   807  7359619            False             False   \n",
       "4 2023-10-01 00:16:00   808  9680176            False             False   \n",
       "\n",
       "  Liquid_levels  \n",
       "0   805.4680176  \n",
       "1     807.92041  \n",
       "2   807.2039795  \n",
       "3   807.7359619  \n",
       "4   808.9680176  "
      ]
     },
     "execution_count": 39,
     "metadata": {},
     "output_type": "execute_result"
    }
   ],
   "source": [
    "df1.head()"
   ]
  },
  {
   "cell_type": "code",
   "execution_count": 40,
   "id": "4a74e143-2184-4d53-b418-6a4f86b7f575",
   "metadata": {},
   "outputs": [
    {
     "data": {
      "text/html": [
       "<div>\n",
       "<style scoped>\n",
       "    .dataframe tbody tr th:only-of-type {\n",
       "        vertical-align: middle;\n",
       "    }\n",
       "\n",
       "    .dataframe tbody tr th {\n",
       "        vertical-align: top;\n",
       "    }\n",
       "\n",
       "    .dataframe thead th {\n",
       "        text-align: right;\n",
       "    }\n",
       "</style>\n",
       "<table border=\"1\" class=\"dataframe\">\n",
       "  <thead>\n",
       "    <tr style=\"text-align: right;\">\n",
       "      <th></th>\n",
       "      <th>DateTime</th>\n",
       "      <th>Vals</th>\n",
       "      <th>Fracs</th>\n",
       "      <th>Vals is missing</th>\n",
       "      <th>Fracs is missing</th>\n",
       "      <th>Valve_positions</th>\n",
       "    </tr>\n",
       "  </thead>\n",
       "  <tbody>\n",
       "    <tr>\n",
       "      <th>0</th>\n",
       "      <td>2023-10-01 00:16:00</td>\n",
       "      <td>1</td>\n",
       "      <td>24000001</td>\n",
       "      <td>False</td>\n",
       "      <td>False</td>\n",
       "      <td>1.24000001</td>\n",
       "    </tr>\n",
       "    <tr>\n",
       "      <th>1</th>\n",
       "      <td>2023-10-01 00:16:00</td>\n",
       "      <td>1</td>\n",
       "      <td>24000001</td>\n",
       "      <td>False</td>\n",
       "      <td>False</td>\n",
       "      <td>1.24000001</td>\n",
       "    </tr>\n",
       "    <tr>\n",
       "      <th>2</th>\n",
       "      <td>2023-10-01 00:16:00</td>\n",
       "      <td>1</td>\n",
       "      <td>24000001</td>\n",
       "      <td>False</td>\n",
       "      <td>False</td>\n",
       "      <td>1.24000001</td>\n",
       "    </tr>\n",
       "    <tr>\n",
       "      <th>3</th>\n",
       "      <td>2023-10-01 00:16:00</td>\n",
       "      <td>1</td>\n",
       "      <td>228000045</td>\n",
       "      <td>False</td>\n",
       "      <td>False</td>\n",
       "      <td>1.228000045</td>\n",
       "    </tr>\n",
       "    <tr>\n",
       "      <th>4</th>\n",
       "      <td>2023-10-01 00:16:00</td>\n",
       "      <td>1</td>\n",
       "      <td>24000001</td>\n",
       "      <td>False</td>\n",
       "      <td>False</td>\n",
       "      <td>1.24000001</td>\n",
       "    </tr>\n",
       "  </tbody>\n",
       "</table>\n",
       "</div>"
      ],
      "text/plain": [
       "             DateTime  Vals      Fracs  Vals is missing  Fracs is missing  \\\n",
       "0 2023-10-01 00:16:00     1   24000001            False             False   \n",
       "1 2023-10-01 00:16:00     1   24000001            False             False   \n",
       "2 2023-10-01 00:16:00     1   24000001            False             False   \n",
       "3 2023-10-01 00:16:00     1  228000045            False             False   \n",
       "4 2023-10-01 00:16:00     1   24000001            False             False   \n",
       "\n",
       "  Valve_positions  \n",
       "0      1.24000001  \n",
       "1      1.24000001  \n",
       "2      1.24000001  \n",
       "3     1.228000045  \n",
       "4      1.24000001  "
      ]
     },
     "execution_count": 40,
     "metadata": {},
     "output_type": "execute_result"
    }
   ],
   "source": [
    "df2.head()"
   ]
  },
  {
   "cell_type": "code",
   "execution_count": 41,
   "id": "3a498ec3-f68d-4f25-a6db-4afba30241be",
   "metadata": {},
   "outputs": [],
   "source": [
    "df1[\"Liquid_levels\"] = pd.to_numeric(df1[\"Liquid_levels\"], downcast=\"float\")"
   ]
  },
  {
   "cell_type": "code",
   "execution_count": 42,
   "id": "ab97b05e-422a-44f5-a913-a95b2a3ad707",
   "metadata": {},
   "outputs": [],
   "source": [
    "df2[\"Valve_positions\"] = pd.to_numeric(df2[\"Valve_positions\"], downcast=\"float\")"
   ]
  },
  {
   "cell_type": "code",
   "execution_count": 43,
   "id": "4cfa16d9-e858-4555-88e3-01d445677cf1",
   "metadata": {},
   "outputs": [
    {
     "name": "stdout",
     "output_type": "stream",
     "text": [
      "<class 'pandas.core.frame.DataFrame'>\n",
      "RangeIndex: 518460 entries, 0 to 518459\n",
      "Data columns (total 6 columns):\n",
      " #   Column            Non-Null Count   Dtype         \n",
      "---  ------            --------------   -----         \n",
      " 0   DateTime          518460 non-null  datetime64[ns]\n",
      " 1   Vals              518460 non-null  int64         \n",
      " 2   Fracs             518460 non-null  int64         \n",
      " 3   Vals is missing   518460 non-null  bool          \n",
      " 4   Fracs is missing  518460 non-null  bool          \n",
      " 5   Liquid_levels     518460 non-null  float32       \n",
      "dtypes: bool(2), datetime64[ns](1), float32(1), int64(2)\n",
      "memory usage: 14.8 MB\n",
      "<class 'pandas.core.frame.DataFrame'>\n",
      "RangeIndex: 518460 entries, 0 to 518459\n",
      "Data columns (total 6 columns):\n",
      " #   Column            Non-Null Count   Dtype         \n",
      "---  ------            --------------   -----         \n",
      " 0   DateTime          518460 non-null  datetime64[ns]\n",
      " 1   Vals              518460 non-null  int64         \n",
      " 2   Fracs             518460 non-null  int64         \n",
      " 3   Vals is missing   518460 non-null  bool          \n",
      " 4   Fracs is missing  518460 non-null  bool          \n",
      " 5   Valve_positions   518460 non-null  float32       \n",
      "dtypes: bool(2), datetime64[ns](1), float32(1), int64(2)\n",
      "memory usage: 14.8 MB\n"
     ]
    },
    {
     "data": {
      "text/plain": [
       "(None, None)"
      ]
     },
     "execution_count": 43,
     "metadata": {},
     "output_type": "execute_result"
    }
   ],
   "source": [
    "df1.info(), df2.info()"
   ]
  },
  {
   "cell_type": "code",
   "execution_count": 44,
   "id": "e2e64f09-8de8-4658-bc1e-0d50fd307091",
   "metadata": {},
   "outputs": [
    {
     "data": {
      "text/plain": [
       "0"
      ]
     },
     "execution_count": 44,
     "metadata": {},
     "output_type": "execute_result"
    }
   ],
   "source": [
    "df1[\"Liquid_levels\"].isnull().sum()"
   ]
  },
  {
   "cell_type": "code",
   "execution_count": 45,
   "id": "a6a4d081-89d6-4b6c-8e1f-7e463aac4f56",
   "metadata": {},
   "outputs": [
    {
     "data": {
      "text/plain": [
       "0"
      ]
     },
     "execution_count": 45,
     "metadata": {},
     "output_type": "execute_result"
    }
   ],
   "source": [
    "df2[\"Valve_positions\"].isnull().sum()"
   ]
  },
  {
   "cell_type": "code",
   "execution_count": 46,
   "id": "c62364b2-a1d6-4a3b-997a-614bca982aa5",
   "metadata": {},
   "outputs": [
    {
     "name": "stderr",
     "output_type": "stream",
     "text": [
      "C:\\Users\\user\\AppData\\Local\\Temp\\ipykernel_12764\\2447413430.py:1: SettingWithCopyWarning: \n",
      "A value is trying to be set on a copy of a slice from a DataFrame\n",
      "\n",
      "See the caveats in the documentation: https://pandas.pydata.org/pandas-docs/stable/user_guide/indexing.html#returning-a-view-versus-a-copy\n",
      "  df1[\"Liquid_levels\"][df1[\"Liquid_levels\"]>1000] = df1[\"Liquid_levels\"].median()\n"
     ]
    }
   ],
   "source": [
    "df1[\"Liquid_levels\"][df1[\"Liquid_levels\"]>1000] = df1[\"Liquid_levels\"].median()"
   ]
  },
  {
   "cell_type": "code",
   "execution_count": 47,
   "id": "0c9ec507-3c12-47be-b300-6cf15ecb352a",
   "metadata": {},
   "outputs": [
    {
     "data": {
      "text/plain": [
       "191768    250.139999\n",
       "414317    250.139999\n",
       "Name: Valve_positions, dtype: float32"
      ]
     },
     "execution_count": 47,
     "metadata": {},
     "output_type": "execute_result"
    }
   ],
   "source": [
    "df2[\"Valve_positions\"][df2[\"Valve_positions\"]>100]"
   ]
  },
  {
   "cell_type": "code",
   "execution_count": 48,
   "id": "63476160-552b-4ffe-995e-e39024156f0d",
   "metadata": {},
   "outputs": [
    {
     "name": "stderr",
     "output_type": "stream",
     "text": [
      "C:\\Users\\user\\AppData\\Local\\Temp\\ipykernel_12764\\634717652.py:1: SettingWithCopyWarning: \n",
      "A value is trying to be set on a copy of a slice from a DataFrame\n",
      "\n",
      "See the caveats in the documentation: https://pandas.pydata.org/pandas-docs/stable/user_guide/indexing.html#returning-a-view-versus-a-copy\n",
      "  df2[\"Valve_positions\"][df2[\"Valve_positions\"]>100] = df2[\"Valve_positions\"].median()\n"
     ]
    }
   ],
   "source": [
    "df2[\"Valve_positions\"][df2[\"Valve_positions\"]>100] = df2[\"Valve_positions\"].median()"
   ]
  },
  {
   "cell_type": "code",
   "execution_count": 49,
   "id": "b2eb439b-c020-45bd-a897-603b426e8964",
   "metadata": {},
   "outputs": [
    {
     "data": {
      "text/plain": [
       "Series([], Name: Valve_positions, dtype: float32)"
      ]
     },
     "execution_count": 49,
     "metadata": {},
     "output_type": "execute_result"
    }
   ],
   "source": [
    "df2[\"Valve_positions\"][df2[\"Valve_positions\"]>100]"
   ]
  },
  {
   "cell_type": "code",
   "execution_count": 50,
   "id": "1d0df2eb-7cde-4046-bd91-db268389aa05",
   "metadata": {},
   "outputs": [
    {
     "data": {
      "text/plain": [
       "(891.360107421875, 59.847999572753906)"
      ]
     },
     "execution_count": 50,
     "metadata": {},
     "output_type": "execute_result"
    }
   ],
   "source": [
    "df1[\"Liquid_levels\"].max(), df2[\"Valve_positions\"].max()"
   ]
  },
  {
   "cell_type": "code",
   "execution_count": 51,
   "id": "5ae3b52e-797f-45eb-a048-524d9cab63c0",
   "metadata": {},
   "outputs": [
    {
     "data": {
      "text/plain": [
       "(179568, 190374)"
      ]
     },
     "execution_count": 51,
     "metadata": {},
     "output_type": "execute_result"
    }
   ],
   "source": [
    "np.argmax(df1[\"Liquid_levels\"]), np.argmax(df2.Valve_positions)"
   ]
  },
  {
   "cell_type": "code",
   "execution_count": 52,
   "id": "4071dfb3-c72e-4ba4-8e39-42cde4c69328",
   "metadata": {},
   "outputs": [],
   "source": [
    "df1[\"Valve_positions\"] = df2[\"Valve_positions\"]"
   ]
  },
  {
   "cell_type": "code",
   "execution_count": 53,
   "id": "0ca1d932-b1a5-45fc-8e6e-609441063f68",
   "metadata": {},
   "outputs": [
    {
     "name": "stdout",
     "output_type": "stream",
     "text": [
      "<class 'pandas.core.frame.DataFrame'>\n",
      "RangeIndex: 518460 entries, 0 to 518459\n",
      "Data columns (total 7 columns):\n",
      " #   Column            Non-Null Count   Dtype         \n",
      "---  ------            --------------   -----         \n",
      " 0   DateTime          518460 non-null  datetime64[ns]\n",
      " 1   Vals              518460 non-null  int64         \n",
      " 2   Fracs             518460 non-null  int64         \n",
      " 3   Vals is missing   518460 non-null  bool          \n",
      " 4   Fracs is missing  518460 non-null  bool          \n",
      " 5   Liquid_levels     518460 non-null  float32       \n",
      " 6   Valve_positions   518460 non-null  float32       \n",
      "dtypes: bool(2), datetime64[ns](1), float32(2), int64(2)\n",
      "memory usage: 16.8 MB\n"
     ]
    }
   ],
   "source": [
    "df1.info()"
   ]
  },
  {
   "cell_type": "code",
   "execution_count": 54,
   "id": "eac618aa-7b4c-4578-a5a3-c71b851c48e3",
   "metadata": {},
   "outputs": [],
   "source": [
    "df1[\"Year\"] = df1.DateTime.dt.year\n",
    "df1[\"Month\"] = df1.DateTime.dt.month\n",
    "df1[\"Day\"] = df1.DateTime.dt.day\n",
    "df1[\"Hour\"] = df1.DateTime.dt.hour\n",
    "df1[\"Minute\"] = df1.DateTime.dt.minute\n",
    "df1[\"DayOfWeek\"] = df1.DateTime.dt.dayofweek\n",
    "df1[\"DayOfYear\"] = df1.DateTime.dt.dayofyear"
   ]
  },
  {
   "cell_type": "code",
   "execution_count": 55,
   "id": "0df42990-e618-4bb8-862e-99006ddf58fc",
   "metadata": {},
   "outputs": [],
   "source": [
    "df1.drop(columns = [\"DateTime\", \"Vals\", \"Fracs\"], inplace = True)"
   ]
  },
  {
   "cell_type": "code",
   "execution_count": 56,
   "id": "5539dd98-9518-4202-aa5d-716789e927db",
   "metadata": {},
   "outputs": [],
   "source": [
    "df1.drop(columns = [\"Vals is missing\", \"Fracs is missing\"], inplace = True)"
   ]
  },
  {
   "cell_type": "code",
   "execution_count": 57,
   "id": "ae37c2bf-d1ff-4196-83f5-5fbf441613a6",
   "metadata": {},
   "outputs": [
    {
     "name": "stdout",
     "output_type": "stream",
     "text": [
      "<class 'pandas.core.frame.DataFrame'>\n",
      "RangeIndex: 518460 entries, 0 to 518459\n",
      "Data columns (total 9 columns):\n",
      " #   Column           Non-Null Count   Dtype  \n",
      "---  ------           --------------   -----  \n",
      " 0   Liquid_levels    518460 non-null  float32\n",
      " 1   Valve_positions  518460 non-null  float32\n",
      " 2   Year             518460 non-null  int64  \n",
      " 3   Month            518460 non-null  int64  \n",
      " 4   Day              518460 non-null  int64  \n",
      " 5   Hour             518460 non-null  int64  \n",
      " 6   Minute           518460 non-null  int64  \n",
      " 7   DayOfWeek        518460 non-null  int64  \n",
      " 8   DayOfYear        518460 non-null  int64  \n",
      "dtypes: float32(2), int64(7)\n",
      "memory usage: 31.6 MB\n"
     ]
    }
   ],
   "source": [
    "df1.info()"
   ]
  },
  {
   "cell_type": "markdown",
   "id": "74495718-3be9-4d7e-9d16-c030b75af90b",
   "metadata": {},
   "source": [
    "## Modelling\n",
    "\n",
    "Preprocessing the data has been completed. Now its time to start the modelling process. \n",
    "In order to model the data, we will use sklearn's `train_test_split()` method to split the data between training and validation sets."
   ]
  },
  {
   "cell_type": "code",
   "execution_count": 59,
   "id": "97712b7e-6533-42bf-9644-390b3127d73f",
   "metadata": {},
   "outputs": [],
   "source": [
    "from sklearn.model_selection import train_test_split"
   ]
  },
  {
   "cell_type": "markdown",
   "id": "84661ed0-f236-423f-97cf-cfc208e888f6",
   "metadata": {},
   "source": [
    "Now split the dataset between training and validation sets. In this step we will use the liquid level data to predict valve positions\n",
    "The splitting will be done in a 75:25 ratio. I.e. 75% of the data will be used to train the model and the rest will be used to validate"
   ]
  },
  {
   "cell_type": "code",
   "execution_count": 61,
   "id": "0408d054-69fe-45f5-958d-c19ed2fafd9c",
   "metadata": {},
   "outputs": [],
   "source": [
    "# First split the dataframe between X and y\n",
    "X = df1.drop(\"Valve_positions\", axis = 1) \n",
    "y = df1[\"Valve_positions\"]"
   ]
  },
  {
   "cell_type": "code",
   "execution_count": 62,
   "id": "03604e1d-bde6-4574-a0db-d26d5b621ad7",
   "metadata": {},
   "outputs": [],
   "source": [
    "# After creating X and y, its time to split them into training and validation datasets\n",
    "X_train, X_val, y_train, y_val = train_test_split(X,y,\n",
    "                                                  test_size=0.25)"
   ]
  },
  {
   "cell_type": "markdown",
   "id": "d27fd077-4bd4-48bb-afc7-12f9cfeaf498",
   "metadata": {},
   "source": [
    "We will use the `RandomForestRegressor` to create our model with `n_jobs` = -1 and `random_state` = 54"
   ]
  },
  {
   "cell_type": "code",
   "execution_count": 64,
   "id": "ef059f69-7224-481c-a534-079d54cd8f8a",
   "metadata": {},
   "outputs": [],
   "source": [
    "from sklearn.ensemble import RandomForestRegressor\n",
    "model = RandomForestRegressor(n_jobs = -1,\n",
    "                             random_state=54)"
   ]
  },
  {
   "cell_type": "code",
   "execution_count": 65,
   "id": "2e4aa2f4-d07a-4a68-abe9-0b256adfb26c",
   "metadata": {},
   "outputs": [
    {
     "name": "stdout",
     "output_type": "stream",
     "text": [
      "Wall time: 41.2 s\n"
     ]
    },
    {
     "data": {
      "text/plain": [
       "RandomForestRegressor(n_jobs=-1, random_state=54)"
      ]
     },
     "execution_count": 65,
     "metadata": {},
     "output_type": "execute_result"
    }
   ],
   "source": [
    "%%time\n",
    "# Try to fit the model\n",
    "model.fit(X_train, y_train)"
   ]
  },
  {
   "cell_type": "code",
   "execution_count": 66,
   "id": "59efb961-8714-40df-8674-316b6f5af01f",
   "metadata": {},
   "outputs": [
    {
     "data": {
      "text/plain": [
       "0.8742490893443037"
      ]
     },
     "execution_count": 66,
     "metadata": {},
     "output_type": "execute_result"
    }
   ],
   "source": [
    "model.score(X_train, y_train)"
   ]
  },
  {
   "cell_type": "code",
   "execution_count": 67,
   "id": "d1b9f113-2a9c-48f9-955e-7c43efbb0e8d",
   "metadata": {},
   "outputs": [
    {
     "data": {
      "text/plain": [
       "0.10376724560720163"
      ]
     },
     "execution_count": 67,
     "metadata": {},
     "output_type": "execute_result"
    }
   ],
   "source": [
    "model.score(X_val, y_val)"
   ]
  },
  {
   "cell_type": "markdown",
   "id": "e22bb61c-6198-44b5-8623-e80de46a9464",
   "metadata": {},
   "source": [
    "### Improvisation\n",
    "Now that we have gotten a score of about **10%** on the validation dataset, it is obvious that we need to improve the model, in order to do that, lets optimize its parameters"
   ]
  },
  {
   "cell_type": "markdown",
   "id": "515b2849-8d37-4afb-bb18-b9d274cc9c40",
   "metadata": {},
   "source": [
    "Improvisation by optimizing the hyperparameters using `RandomizedSearchCV`"
   ]
  },
  {
   "cell_type": "code",
   "execution_count": 70,
   "id": "a6368662-16fa-4f74-8b6e-82c894644676",
   "metadata": {},
   "outputs": [
    {
     "name": "stdout",
     "output_type": "stream",
     "text": [
      "Fitting 5 folds for each of 6 candidates, totalling 30 fits\n",
      "Wall time: 2min 13s\n"
     ]
    },
    {
     "data": {
      "text/plain": [
       "RandomizedSearchCV(cv=5,\n",
       "                   estimator=RandomForestRegressor(n_jobs=-1, random_state=60),\n",
       "                   n_iter=6,\n",
       "                   param_distributions={'max_depth': [None, 3, 5, 10],\n",
       "                                        'max_features': [0.5, 1, 'sqrt',\n",
       "                                                         'auto'],\n",
       "                                        'max_samples': [10000],\n",
       "                                        'min_samples_leaf': array([ 1,  3,  5,  7,  9, 11, 13, 15, 17, 19]),\n",
       "                                        'min_samples_split': array([ 2,  4,  6,  8, 10, 12, 14, 16, 18, 20, 22, 24, 26, 28, 30, 32, 34,\n",
       "       36, 38]),\n",
       "                                        'n_estimators': ar...\n",
       "       140, 150, 160, 170, 180, 190, 200, 210, 220, 230, 240, 250, 260,\n",
       "       270, 280, 290, 300, 310, 320, 330, 340, 350, 360, 370, 380, 390,\n",
       "       400, 410, 420, 430, 440, 450, 460, 470, 480, 490, 500, 510, 520,\n",
       "       530, 540, 550, 560, 570, 580, 590, 600, 610, 620, 630, 640, 650,\n",
       "       660, 670, 680, 690, 700, 710, 720, 730, 740, 750, 760, 770, 780,\n",
       "       790, 800, 810, 820, 830, 840, 850, 860, 870, 880, 890, 900, 910,\n",
       "       920, 930, 940, 950, 960, 970, 980, 990])},\n",
       "                   verbose=True)"
      ]
     },
     "execution_count": 70,
     "metadata": {},
     "output_type": "execute_result"
    }
   ],
   "source": [
    "%%time\n",
    "from sklearn.model_selection import RandomizedSearchCV\n",
    "rf_grid = {\"n_estimators\":np.arange(10, 1000, 10),\n",
    "          \"max_depth\":[None, 3, 5, 10],\n",
    "          \"min_samples_split\": np.arange(2, 40, 2),\n",
    "          \"min_samples_leaf\":np.arange(1, 20, 2),\n",
    "          \"max_features\":[0.5, 1, \"sqrt\", \"auto\"],\n",
    "          \"max_samples\": [10000]}\n",
    "\n",
    "# Instantiate model using these hyperparameters\n",
    "rs_model = RandomizedSearchCV(RandomForestRegressor(n_jobs=-1,\n",
    "                                                   random_state=60),\n",
    "                             param_distributions=rf_grid,\n",
    "                             n_iter=6,\n",
    "                             cv=5,\n",
    "                             verbose=True)\n",
    "\n",
    "\n",
    "# Fit the model\n",
    "rs_model.fit(X_train, y_train)"
   ]
  },
  {
   "cell_type": "code",
   "execution_count": 71,
   "id": "2eeb4b33-727f-470f-b9bb-8126a761efa1",
   "metadata": {},
   "outputs": [
    {
     "data": {
      "text/plain": [
       "{'n_estimators': 600,\n",
       " 'min_samples_split': 20,\n",
       " 'min_samples_leaf': 13,\n",
       " 'max_samples': 10000,\n",
       " 'max_features': 0.5,\n",
       " 'max_depth': 10}"
      ]
     },
     "execution_count": 71,
     "metadata": {},
     "output_type": "execute_result"
    }
   ],
   "source": [
    "rs_model.best_params_"
   ]
  },
  {
   "cell_type": "code",
   "execution_count": 72,
   "id": "014a263b-0a8b-46ab-8dc8-bb11a75de014",
   "metadata": {},
   "outputs": [
    {
     "data": {
      "text/plain": [
       "0.21854660866234987"
      ]
     },
     "execution_count": 72,
     "metadata": {},
     "output_type": "execute_result"
    }
   ],
   "source": [
    "rs_model.score(X_val, y_val)"
   ]
  },
  {
   "cell_type": "code",
   "execution_count": 73,
   "id": "e8227b39-8478-4c37-8c50-1ce46eb2bc79",
   "metadata": {},
   "outputs": [],
   "source": [
    "# Let's do a function for scoring \n",
    "from sklearn.metrics import mean_squared_log_error, mean_absolute_error, r2_score\n",
    "# Create a function to calculate root mean squared log error \n",
    "def rmsle(y_true, y_preds):\n",
    "    \"\"\"\n",
    "    This function takes true labels (y_true) and prediction labels (y_preds) as input and computes the root mean squared log error\n",
    "    \"\"\"\n",
    "    return np.sqrt(mean_squared_log_error(y_true, y_preds))\n",
    "# Another function to show the various scores using the true labels and prediction labels\n",
    "def show_scores(model):\n",
    "    train_preds = model.predict(X_train)\n",
    "    val_preds = model.predict(X_val)\n",
    "    scores = {\"Training R^2 Score\":r2_score(y_train, train_preds),\n",
    "             \"Validation R^2 Score\": r2_score(y_val, val_preds),\n",
    "              \"Training Mean Absolute Error\": mean_absolute_error(y_train, train_preds),\n",
    "              \"Validation Mean Absolute Error\": mean_absolute_error(y_val, val_preds), \n",
    "              \"Traininig RMSLE\": rmsle(y_train, train_preds),\n",
    "              \"Validation RMSLE\": rmsle(y_val, val_preds)\n",
    "             }\n",
    "    return scores"
   ]
  },
  {
   "cell_type": "code",
   "execution_count": 74,
   "id": "95222898-729a-468c-987c-e3021016ccfd",
   "metadata": {},
   "outputs": [
    {
     "data": {
      "text/plain": [
       "{'Training R^2 Score': 0.8742490893443037,\n",
       " 'Validation R^2 Score': 0.10376724560720163,\n",
       " 'Training Mean Absolute Error': 1.8998354126640882,\n",
       " 'Validation Mean Absolute Error': 5.122229592788022,\n",
       " 'Traininig RMSLE': 0.6107763327756363,\n",
       " 'Validation RMSLE': 1.1717012506561009}"
      ]
     },
     "execution_count": 74,
     "metadata": {},
     "output_type": "execute_result"
    }
   ],
   "source": [
    "show_scores(model)"
   ]
  },
  {
   "cell_type": "code",
   "execution_count": 75,
   "id": "6669f1f5-1328-4e38-acf1-24708b1fd007",
   "metadata": {},
   "outputs": [
    {
     "data": {
      "text/plain": [
       "{'Training R^2 Score': 0.2218583036225409,\n",
       " 'Validation R^2 Score': 0.21854660866234987,\n",
       " 'Training Mean Absolute Error': 4.820302965864341,\n",
       " 'Validation Mean Absolute Error': 4.802343032821837,\n",
       " 'Traininig RMSLE': 1.0956561576658899,\n",
       " 'Validation RMSLE': 1.0971213930199375}"
      ]
     },
     "execution_count": 75,
     "metadata": {},
     "output_type": "execute_result"
    }
   ],
   "source": [
    "show_scores(rs_model)"
   ]
  },
  {
   "cell_type": "code",
   "execution_count": null,
   "id": "87d89136-dc6d-4722-8eee-58c2ab646fc7",
   "metadata": {},
   "outputs": [],
   "source": []
  }
 ],
 "metadata": {
  "kernelspec": {
   "display_name": "Python 3 (ipykernel)",
   "language": "python",
   "name": "python3"
  },
  "language_info": {
   "codemirror_mode": {
    "name": "ipython",
    "version": 3
   },
   "file_extension": ".py",
   "mimetype": "text/x-python",
   "name": "python",
   "nbconvert_exporter": "python",
   "pygments_lexer": "ipython3",
   "version": "3.9.19"
  }
 },
 "nbformat": 4,
 "nbformat_minor": 5
}
